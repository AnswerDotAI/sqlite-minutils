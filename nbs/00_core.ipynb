{
 "cells": [
  {
   "cell_type": "code",
   "execution_count": null,
   "id": "97215fcc",
   "metadata": {},
   "outputs": [],
   "source": [
    "#| export\n",
    "from sqlite_minutils.utils import ( chunks, hash_record, sqlite3, OperationalError, suggest_column_types, types_for_column_types, column_affinity, find_spatialite,)\n",
    "import binascii\n",
    "from collections import namedtuple\n",
    "from collections.abc import Mapping\n",
    "import contextlib, datetime, decimal, inspect, itertools, json, os, pathlib, re, secrets, textwrap\n",
    "from typing import ( cast, Any, Callable, Dict, Generator, Iterable, Union, Optional, List, Tuple,)\n",
    "from functools import cache\n",
    "import uuid"
   ]
  },
  {
   "cell_type": "code",
   "execution_count": null,
   "id": "75077221",
   "metadata": {},
   "outputs": [],
   "source": [
    "from fastcore.utils import *"
   ]
  },
  {
   "cell_type": "code",
   "execution_count": null,
   "id": "20fb5666",
   "metadata": {},
   "outputs": [],
   "source": [
    "#| export\n",
    "try: from sqlite_dump import iterdump\n",
    "except ImportError: iterdump = None"
   ]
  },
  {
   "cell_type": "code",
   "execution_count": null,
   "id": "d6d7b336",
   "metadata": {},
   "outputs": [],
   "source": [
    "#| export\n",
    "__all__ = ['Database', 'Queryable', 'Table', 'View']"
   ]
  },
  {
   "cell_type": "code",
   "execution_count": null,
   "id": "65e2df19",
   "metadata": {},
   "outputs": [],
   "source": [
    "#| export\n",
    "class Database:\n",
    "    \"\"\"\n",
    "    Wrapper for a SQLite database connection that adds a variety of useful utility methods.\n",
    "\n",
    "    To create an instance::\n",
    "\n",
    "        # create data.db file, or open existing:\n",
    "        db = Database(\"data.db\")\n",
    "        # Create an in-memory database:\n",
    "        db_mem = Database(memory=True)\n",
    "    \"\"\"\n",
    "\n",
    "    _counts_table_name = \"_counts\"\n",
    "    use_counts_table = False\n",
    "\n",
    "    def __init__(\n",
    "        self,\n",
    "        filename_or_conn: Optional[Union[str, pathlib.Path, sqlite3.Connection]] = None, # String path to a file, or a `pathlib.Path` object, or a `sqlite3` connection\n",
    "        memory: bool = False,              # set to `True` to create an in-memory database\n",
    "        memory_name: Optional[str] = None, # reates a named in-memory database that can be shared across multiple connections\n",
    "        recreate: bool = False,            # set to `True` to delete and recreate a file database (**dangerous**)\n",
    "        recursive_triggers: bool = True,   # defaults to `True`, which sets `PRAGMA recursive_triggers=on;` - set to `False` to avoid setting this pragma\n",
    "        tracer: Optional[Callable] = None, # set a tracer function (`print` works for this) which will be called with `sql, parameters` every time a SQL query is executed\n",
    "        use_counts_table: bool = False,    # set to `True` to use a cached counts table, if available. See :ref:`python_api_cached_table_counts`\n",
    "        strict: bool = False,              # Apply STRICT mode to all created tables (unless overridden)\n",
    "    ):\n",
    "        assert (filename_or_conn is not None and (not memory and not memory_name)) or (\n",
    "            filename_or_conn is None and (memory or memory_name)\n",
    "        ), \"Either specify a filename_or_conn or pass memory=True\"\n",
    "        if memory_name:\n",
    "            uri = \"file:{}?mode=memory&cache=shared\".format(memory_name)\n",
    "            self.conn = sqlite3.connect(\n",
    "                uri,\n",
    "                uri=True,\n",
    "                check_same_thread=False,\n",
    "                isolation_level=None\n",
    "            )\n",
    "        elif memory or filename_or_conn == \":memory:\":\n",
    "            self.conn = sqlite3.connect(\":memory:\", isolation_level=None)\n",
    "        elif isinstance(filename_or_conn, (str, pathlib.Path)):\n",
    "            if recreate and os.path.exists(filename_or_conn):\n",
    "                try:\n",
    "                    os.remove(filename_or_conn)\n",
    "                except OSError:\n",
    "                    # Avoid mypy and __repr__ errors, see:\n",
    "                    # https://github.com/simonw/sqlite-utils/issues/503\n",
    "                    self.conn = sqlite3.connect(\":memory:\", isolation_level=None)\n",
    "                    raise\n",
    "            self.conn = sqlite3.connect(str(filename_or_conn), check_same_thread=False, isolation_level=None)\n",
    "        else:\n",
    "            assert not recreate, \"recreate cannot be used with connections, only paths\"\n",
    "            self.conn = filename_or_conn\n",
    "        if not hasattr(self.conn, '__enter__'):\n",
    "            self.conn.__enter__ = __conn_enter__\n",
    "            self.conn.__exit__ = __conn_exit__\n",
    "        self._tracer = tracer\n",
    "        if recursive_triggers:\n",
    "            self.execute(\"PRAGMA recursive_triggers=on;\")\n",
    "        self._registered_functions: set = set()\n",
    "        self.use_counts_table = use_counts_table\n",
    "        self.strict = strict"
   ]
  },
  {
   "cell_type": "code",
   "execution_count": null,
   "id": "7b72fc7d",
   "metadata": {},
   "outputs": [],
   "source": [
    "#| export\n",
    "@patch\n",
    "def execute(\n",
    "    self:Database, sql: str, parameters: Optional[Union[Iterable, dict]] = None\n",
    ") -> sqlite3.Cursor:\n",
    "    \"\"\"\n",
    "    Execute SQL query and return a ``sqlite3.Cursor``.\n",
    "\n",
    "    :param sql: SQL query to execute\n",
    "    :param parameters: Parameters to use in that query - an iterable for ``where id = ?``\n",
    "      parameters, or a dictionary for ``where id = :id``\n",
    "    \"\"\"\n",
    "    if self._tracer:\n",
    "        self._tracer(sql, parameters)\n",
    "    if parameters is not None:\n",
    "        return self.conn.execute(sql, tuple(parameters))\n",
    "    else:\n",
    "        return self.conn.execute(sql)\n"
   ]
  },
  {
   "cell_type": "code",
   "execution_count": null,
   "id": "57c94210",
   "metadata": {},
   "outputs": [],
   "source": [
    "\n",
    "def close(self):\n",
    "    \"Close the SQLite connection, and the underlying database file\"\n",
    "    self.conn.close()"
   ]
  },
  {
   "cell_type": "code",
   "execution_count": null,
   "id": "1ba110e8",
   "metadata": {},
   "outputs": [],
   "source": [
    "#| export\n",
    "@patch\n",
    "def get_last_rowid(self:Database) -> int|None:\n",
    "    res = next(self.execute('SELECT last_insert_rowid()'), None)\n",
    "    if res is None: return None\n",
    "    return int(res[0])"
   ]
  },
  {
   "cell_type": "code",
   "execution_count": null,
   "id": "53d6f411",
   "metadata": {},
   "outputs": [],
   "source": []
  },
  {
   "cell_type": "markdown",
   "id": "42830519",
   "metadata": {},
   "source": [
    "## Tests"
   ]
  },
  {
   "cell_type": "code",
   "execution_count": null,
   "id": "bb30852e",
   "metadata": {},
   "outputs": [
    {
     "data": {
      "text/plain": [
       "0"
      ]
     },
     "execution_count": null,
     "metadata": {},
     "output_type": "execute_result"
    }
   ],
   "source": [
    "db = Database('users.db')\n",
    "db.get_last_rowid()"
   ]
  }
 ],
 "metadata": {
  "kernelspec": {
   "display_name": "python3",
   "language": "python",
   "name": "python3"
  }
 },
 "nbformat": 4,
 "nbformat_minor": 5
}
