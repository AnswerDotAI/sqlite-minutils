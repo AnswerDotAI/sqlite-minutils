{
 "cells": [
  {
   "cell_type": "markdown",
   "id": "aa9b1a80-c987-4ab0-b074-69f0e1687a2f",
   "metadata": {},
   "source": [
    "# sqlite-minutils"
   ]
  },
  {
   "cell_type": "markdown",
   "id": "48463d2b-7d4d-4dbc-b131-f41cfc113a1f",
   "metadata": {},
   "source": [
    "This is the source code to sqlite-minutils. You won't need to read this unless you want to understand how things are built behind the scenes, or need full details of a particular API. The notebook is converted to the Python module sqlite_minutils/core.py using nbdev."
   ]
  },
  {
   "cell_type": "markdown",
   "id": "79d7700b-ee58-4c08-b5e0-7a7a8ab97076",
   "metadata": {},
   "source": [
    ":::{.callout-tip title=\"About the origins of this library\"}\n",
    "This is a fork of Simon Willison's excellent [sqlite-utils](https://github.com/simonw/sqlite-utils) project.\n",
    ":::"
   ]
  },
  {
   "cell_type": "code",
   "execution_count": 24,
   "id": "97215fcc",
   "metadata": {},
   "outputs": [],
   "source": [
    "#| export\n",
    "import binascii\n",
    "from collections import namedtuple\n",
    "from collections.abc import Mapping\n",
    "import contextlib, datetime, decimal, inspect, itertools, json, os, pathlib, re, secrets, textwrap\n",
    "from typing import ( cast, Any, Callable, Dict, Generator, Iterable, Union, Optional, List, Tuple,)\n",
    "from functools import cache\n",
    "import uuid\n",
    "\n",
    "from fastcore.utils import *\n",
    "from sqlite_minutils.utils import ( chunks, hash_record, sqlite3, OperationalError, suggest_column_types, types_for_column_types, column_affinity, find_spatialite,)\n",
    "try: from sqlite_dump import iterdump\n",
    "except ImportError: iterdump = None"
   ]
  },
  {
   "cell_type": "markdown",
   "id": "5403d472-e9cc-42f4-ae50-6e8735c0e600",
   "metadata": {},
   "source": [
    "We write source code first, and then tests come after. The tests serve as both a means to confirm that the code works and also serves as working examples."
   ]
  },
  {
   "cell_type": "code",
   "execution_count": 25,
   "id": "75077221",
   "metadata": {},
   "outputs": [],
   "source": [
    "from fastcore.test import *"
   ]
  },
  {
   "cell_type": "code",
   "execution_count": 26,
   "id": "d6d7b336",
   "metadata": {},
   "outputs": [],
   "source": [
    "#| export\n",
    "__all__ = ['Database', 'Queryable', 'Table', 'View']"
   ]
  },
  {
   "cell_type": "code",
   "execution_count": 27,
   "id": "65e2df19",
   "metadata": {},
   "outputs": [],
   "source": [
    "#| export\n",
    "class Database:\n",
    "    \"\"\"\n",
    "    Wrapper for a SQLite database connection that adds a variety of useful utility methods.\n",
    "\n",
    "    To create an instance::\n",
    "\n",
    "        # create data.db file, or open existing:\n",
    "        db = Database(\"data.db\")\n",
    "        # Create an in-memory database:\n",
    "        db_mem = Database(memory=True)\n",
    "    \"\"\"\n",
    "\n",
    "    _counts_table_name = \"_counts\"\n",
    "    use_counts_table = False\n",
    "\n",
    "    def __init__(\n",
    "        self,\n",
    "        filename_or_conn: Optional[Union[str, pathlib.Path, sqlite3.Connection]] = None, # String path to a file, or a `pathlib.Path` object, or a `sqlite3` connection\n",
    "        memory: bool = False,              # set to `True` to create an in-memory database\n",
    "        memory_name: Optional[str] = None, # reates a named in-memory database that can be shared across multiple connections\n",
    "        recreate: bool = False,            # set to `True` to delete and recreate a file database (**dangerous**)\n",
    "        recursive_triggers: bool = True,   # defaults to `True`, which sets `PRAGMA recursive_triggers=on;` - set to `False` to avoid setting this pragma\n",
    "        tracer: Optional[Callable] = None, # set a tracer function (`print` works for this) which will be called with `sql, parameters` every time a SQL query is executed\n",
    "        use_counts_table: bool = False,    # set to `True` to use a cached counts table, if available. See :ref:`python_api_cached_table_counts`\n",
    "        strict: bool = False,              # Apply STRICT mode to all created tables (unless overridden)\n",
    "    ):\n",
    "        assert (filename_or_conn is not None and (not memory and not memory_name)) or (\n",
    "            filename_or_conn is None and (memory or memory_name)\n",
    "        ), \"Either specify a filename_or_conn or pass memory=True\"\n",
    "        if memory_name:\n",
    "            uri = \"file:{}?mode=memory&cache=shared\".format(memory_name)\n",
    "            self.conn = sqlite3.connect(\n",
    "                uri,\n",
    "                uri=True,\n",
    "                check_same_thread=False,\n",
    "                isolation_level=None\n",
    "            )\n",
    "        elif memory or filename_or_conn == \":memory:\":\n",
    "            self.conn = sqlite3.connect(\":memory:\", isolation_level=None)\n",
    "        elif isinstance(filename_or_conn, (str, pathlib.Path)):\n",
    "            if recreate and os.path.exists(filename_or_conn):\n",
    "                try:\n",
    "                    os.remove(filename_or_conn)\n",
    "                except OSError:\n",
    "                    # Avoid mypy and __repr__ errors, see:\n",
    "                    # https://github.com/simonw/sqlite-utils/issues/503\n",
    "                    self.conn = sqlite3.connect(\":memory:\", isolation_level=None)\n",
    "                    raise\n",
    "            self.conn = sqlite3.connect(str(filename_or_conn), check_same_thread=False, isolation_level=None)\n",
    "        else:\n",
    "            assert not recreate, \"recreate cannot be used with connections, only paths\"\n",
    "            self.conn = filename_or_conn\n",
    "        if not hasattr(self.conn, '__enter__'):\n",
    "            self.conn.__enter__ = __conn_enter__\n",
    "            self.conn.__exit__ = __conn_exit__\n",
    "        self._tracer = tracer\n",
    "        if recursive_triggers:\n",
    "            self.execute(\"PRAGMA recursive_triggers=on;\")\n",
    "        self._registered_functions: set = set()\n",
    "        self.use_counts_table = use_counts_table\n",
    "        self.strict = strict"
   ]
  },
  {
   "cell_type": "code",
   "execution_count": 48,
   "id": "e8cacad5-2fa5-4221-b280-cc23bf7e10d1",
   "metadata": {},
   "outputs": [],
   "source": [
    "# Test to see if a connection is established with an in-memory DB\n",
    "db = Database(':memory:')\n",
    "test_eq(type(db.conn), sqlite3.Connection)"
   ]
  },
  {
   "cell_type": "code",
   "execution_count": 30,
   "id": "7b72fc7d",
   "metadata": {},
   "outputs": [],
   "source": [
    "#| export\n",
    "@patch\n",
    "def execute(\n",
    "    self:Database, sql: str, parameters: Optional[Union[Iterable, dict]] = None\n",
    ") -> sqlite3.Cursor:\n",
    "    \"\"\"\n",
    "    Execute SQL query and return a ``sqlite3.Cursor``.\n",
    "\n",
    "    :param sql: SQL query to execute\n",
    "    :param parameters: Parameters to use in that query - an iterable for ``where id = ?``\n",
    "      parameters, or a dictionary for ``where id = :id``\n",
    "    \"\"\"\n",
    "    if self._tracer:\n",
    "        self._tracer(sql, parameters)\n",
    "    if parameters is not None:\n",
    "        return self.conn.execute(sql, tuple(parameters))\n",
    "    else:\n",
    "        return self.conn.execute(sql)\n"
   ]
  },
  {
   "cell_type": "code",
   "execution_count": 50,
   "id": "57c94210",
   "metadata": {},
   "outputs": [],
   "source": [
    "#| export\n",
    "@patch\n",
    "def close(self: Database):\n",
    "    \"Close the SQLite connection, and the underlying database file\"\n",
    "    self.conn.close()"
   ]
  },
  {
   "cell_type": "code",
   "execution_count": 54,
   "id": "f77ff6b6-b1bd-4cb9-b01c-5102a3b0156e",
   "metadata": {},
   "outputs": [
    {
     "data": {
      "text/plain": [
       "\u001b[0;31mCall signature:\u001b[0m \u001b[0mdb\u001b[0m\u001b[0;34m.\u001b[0m\u001b[0mconn\u001b[0m\u001b[0;34m(\u001b[0m\u001b[0;34m*\u001b[0m\u001b[0margs\u001b[0m\u001b[0;34m,\u001b[0m \u001b[0;34m**\u001b[0m\u001b[0mkwargs\u001b[0m\u001b[0;34m)\u001b[0m\u001b[0;34m\u001b[0m\u001b[0;34m\u001b[0m\u001b[0m\n",
       "\u001b[0;31mType:\u001b[0m           Connection\n",
       "\u001b[0;31mString form:\u001b[0m    <sqlite3.Connection object at 0x1247c1640>\n",
       "\u001b[0;31mFile:\u001b[0m           ~/.local/share/uv/python/cpython-3.10.15-macos-aarch64-none/lib/python3.10/sqlite3/__init__.py\n",
       "\u001b[0;31mDocstring:\u001b[0m      SQLite database connection object."
      ]
     },
     "metadata": {},
     "output_type": "display_data"
    }
   ],
   "source": [
    "# TODO write tests\n",
    "db.close()\n"
   ]
  },
  {
   "cell_type": "code",
   "execution_count": 31,
   "id": "1ba110e8",
   "metadata": {},
   "outputs": [],
   "source": [
    "#| export\n",
    "@patch\n",
    "def get_last_rowid(self:Database) -> int|None:\n",
    "    res = next(self.execute('SELECT last_insert_rowid()'), None)\n",
    "    if res is None: return None\n",
    "    return int(res[0])"
   ]
  },
  {
   "cell_type": "code",
   "execution_count": null,
   "id": "53d6f411",
   "metadata": {},
   "outputs": [],
   "source": []
  },
  {
   "cell_type": "markdown",
   "id": "42830519",
   "metadata": {},
   "source": [
    "## Tests"
   ]
  },
  {
   "cell_type": "code",
   "execution_count": 33,
   "id": "bb30852e",
   "metadata": {},
   "outputs": [
    {
     "data": {
      "text/plain": [
       "<sqlite3.Connection at 0x1247c0540>"
      ]
     },
     "execution_count": 33,
     "metadata": {},
     "output_type": "execute_result"
    }
   ],
   "source": [
    "db = Database(':memory:')\n",
    "test_eq(db.get_last_rowid(), 0)\n",
    "db.conn"
   ]
  }
 ],
 "metadata": {
  "kernelspec": {
   "display_name": "Python 3 (ipykernel)",
   "language": "python",
   "name": "python3"
  },
  "language_info": {
   "codemirror_mode": {
    "name": "ipython",
    "version": 3
   },
   "file_extension": ".py",
   "mimetype": "text/x-python",
   "name": "python",
   "nbconvert_exporter": "python",
   "pygments_lexer": "ipython3",
   "version": "3.10.15"
  }
 },
 "nbformat": 4,
 "nbformat_minor": 5
}
