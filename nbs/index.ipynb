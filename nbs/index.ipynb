{
 "cells": [
  {
   "cell_type": "code",
   "execution_count": null,
   "metadata": {},
   "outputs": [],
   "source": [
    "#| hide\n",
    "%load_ext autoreload\n",
    "%autoreload 2"
   ]
  },
  {
   "cell_type": "markdown",
   "metadata": {},
   "source": [
    "# sqlite-minutils\n",
    "\n",
    "> A fork of the sqlite-utils package with the CLI removed."
   ]
  },
  {
   "cell_type": "markdown",
   "metadata": {},
   "source": [
    ":::{.callout-tip title=\"Where to find the complete documentation for this library\"}\n",
    "\n",
    "If you want to learn about everything this project can do, we recommend reading the Python library section of the sqlite-utils project [here](https://sqlite-utils.datasette.io/en/stable/python-api.html).\n",
    "\n",
    "This project wouldn't exist without Simon Willison and his excellent [sqlite-utils](https://github.com/simonw/sqlite-utils) project. Most of this project is his code, with some minor changes made to it. \n",
    ":::"
   ]
  },
  {
   "cell_type": "markdown",
   "metadata": {},
   "source": [
    "## Install"
   ]
  },
  {
   "cell_type": "markdown",
   "metadata": {},
   "source": [
    "```\n",
    "pip install sqlite-minutils\n",
    "```"
   ]
  },
  {
   "cell_type": "markdown",
   "metadata": {},
   "source": [
    "## Use"
   ]
  },
  {
   "cell_type": "code",
   "execution_count": null,
   "metadata": {},
   "outputs": [],
   "source": [
    "from fastcore.utils import *\n",
    "from fastcore.test import *\n",
    "from typing import Any"
   ]
  },
  {
   "cell_type": "markdown",
   "metadata": {},
   "source": [
    "First, import the sqlite-miniutils library. Through the use of the __all__ attribute in our Python modules by using `import *` we only bring in the `Database`, `Queryable`, `Table`, `View` classes. There’s no risk of namespace pollution."
   ]
  },
  {
   "cell_type": "code",
   "execution_count": null,
   "metadata": {},
   "outputs": [],
   "source": [
    "from sqlite_minutils.db import *"
   ]
  },
  {
   "cell_type": "markdown",
   "metadata": {},
   "source": [
    "Then we create a SQLite database. For the sake of convienance we're doing it in-memory with the `:memory:` special string. If you wanted something more persistent, name it something not surrounded by colons, `data.db` is a common file name."
   ]
  },
  {
   "cell_type": "code",
   "execution_count": null,
   "metadata": {},
   "outputs": [],
   "source": [
    "db = Database(\":memory:\")"
   ]
  },
  {
   "cell_type": "markdown",
   "metadata": {},
   "source": [
    "Let's drop (aka 'delete') any tables that might exist. These docs also serve as a test harness, and we want to make certain we are starting with a clean slate. This also serves as a handy sneak preview of some of the features of this library."
   ]
  },
  {
   "cell_type": "code",
   "execution_count": null,
   "metadata": {},
   "outputs": [],
   "source": [
    "for t in db.tables: t.drop()"
   ]
  },
  {
   "cell_type": "markdown",
   "metadata": {},
   "source": [
    "User tables are a handy way to create a useful example with some real-world meaning. To do this, we first instantiate the `users` table object:"
   ]
  },
  {
   "cell_type": "code",
   "execution_count": null,
   "metadata": {},
   "outputs": [
    {
     "data": {
      "text/plain": [
       "<Table Users (does not exist yet)>"
      ]
     },
     "execution_count": null,
     "metadata": {},
     "output_type": "execute_result"
    }
   ],
   "source": [
    "users = Table(db, 'Users')\n",
    "users\n"
   ]
  },
  {
   "cell_type": "markdown",
   "metadata": {},
   "source": [
    "The table doesn't exist yet, so let's add some columns via the `Table.create` method:"
   ]
  },
  {
   "cell_type": "code",
   "execution_count": null,
   "metadata": {},
   "outputs": [
    {
     "data": {
      "text/plain": [
       "<Table Users (id, name, age)>"
      ]
     },
     "execution_count": null,
     "metadata": {},
     "output_type": "execute_result"
    }
   ],
   "source": [
    "users.create(columns=dict(id=int, name=str, age=int))\n",
    "users"
   ]
  },
  {
   "cell_type": "markdown",
   "metadata": {},
   "source": [
    "What if we need to change the table structure?\n",
    "\n",
    "For example User tables often include things like password field. Let's add that now by calling `create` again, but this time with `transform=True`. We should now see that the `users` table now has the `pwd:str` field added."
   ]
  },
  {
   "cell_type": "code",
   "execution_count": null,
   "metadata": {},
   "outputs": [
    {
     "data": {
      "text/plain": [
       "<Table Users (id, name, age, pwd)>"
      ]
     },
     "execution_count": null,
     "metadata": {},
     "output_type": "execute_result"
    }
   ],
   "source": [
    "users.create(columns=dict(id=int, name=str, age=int, pwd=str), transform=True, pk='id')\n",
    "users"
   ]
  },
  {
   "cell_type": "code",
   "execution_count": null,
   "metadata": {},
   "outputs": [
    {
     "name": "stdout",
     "output_type": "stream",
     "text": [
      "CREATE TABLE \"Users\" (\n",
      "   [id] INTEGER PRIMARY KEY,\n",
      "   [name] TEXT,\n",
      "   [age] INTEGER,\n",
      "   [pwd] TEXT\n",
      ");\n"
     ]
    }
   ],
   "source": [
    "print(db.schema)"
   ]
  },
  {
   "cell_type": "markdown",
   "metadata": {},
   "source": [
    "## Queries"
   ]
  },
  {
   "cell_type": "markdown",
   "metadata": {},
   "source": [
    "Let's add some users to query:"
   ]
  },
  {
   "cell_type": "code",
   "execution_count": null,
   "metadata": {},
   "outputs": [
    {
     "data": {
      "text/plain": [
       "{'id': 5, 'name': 'Eagle', 'age': 7, 'pwd': 's3cr3t'}"
      ]
     },
     "execution_count": null,
     "metadata": {},
     "output_type": "execute_result"
    }
   ],
   "source": [
    "users.insert(dict(name='Raven', age=8, pwd='s3cret'))\n",
    "users.insert(dict(name='Magpie', age=5, pwd='supersecret'))\n",
    "users.insert(dict(name='Crow', age=12, pwd='verysecret'))\n",
    "users.insert(dict(name='Pigeon', age=3, pwd='keptsecret'))\n",
    "users.insert(dict(name='Eagle', age=7, pwd='s3cr3t'))\n"
   ]
  },
  {
   "cell_type": "markdown",
   "metadata": {},
   "source": [
    "A simple unfiltered select can be executed using `rows` property on the table object."
   ]
  },
  {
   "cell_type": "code",
   "execution_count": null,
   "metadata": {},
   "outputs": [
    {
     "data": {
      "text/plain": [
       "<generator object Queryable.rows_where>"
      ]
     },
     "execution_count": null,
     "metadata": {},
     "output_type": "execute_result"
    }
   ],
   "source": [
    "users.rows"
   ]
  },
  {
   "cell_type": "markdown",
   "metadata": {},
   "source": [
    "Let's iterate over that generator to see the results:"
   ]
  },
  {
   "cell_type": "code",
   "execution_count": null,
   "metadata": {},
   "outputs": [
    {
     "data": {
      "text/plain": [
       "[{'id': 1, 'name': 'Raven', 'age': 8, 'pwd': 's3cret'},\n",
       " {'id': 2, 'name': 'Magpie', 'age': 5, 'pwd': 'supersecret'},\n",
       " {'id': 3, 'name': 'Crow', 'age': 12, 'pwd': 'verysecret'},\n",
       " {'id': 4, 'name': 'Pigeon', 'age': 3, 'pwd': 'keptsecret'},\n",
       " {'id': 5, 'name': 'Eagle', 'age': 7, 'pwd': 's3cr3t'}]"
      ]
     },
     "execution_count": null,
     "metadata": {},
     "output_type": "execute_result"
    }
   ],
   "source": [
    "[o for o in users.rows]"
   ]
  },
  {
   "cell_type": "markdown",
   "metadata": {},
   "source": [
    "Filtering can be done via the `rows_where` function:"
   ]
  },
  {
   "cell_type": "code",
   "execution_count": null,
   "metadata": {},
   "outputs": [
    {
     "data": {
      "text/plain": [
       "[{'id': 1, 'name': 'Raven', 'age': 8, 'pwd': 's3cret'},\n",
       " {'id': 2, 'name': 'Magpie', 'age': 5, 'pwd': 'supersecret'},\n",
       " {'id': 3, 'name': 'Crow', 'age': 12, 'pwd': 'verysecret'},\n",
       " {'id': 5, 'name': 'Eagle', 'age': 7, 'pwd': 's3cr3t'}]"
      ]
     },
     "execution_count": null,
     "metadata": {},
     "output_type": "execute_result"
    }
   ],
   "source": [
    "[o for o in users.rows_where('age > 3')]"
   ]
  },
  {
   "cell_type": "markdown",
   "metadata": {},
   "source": [
    "We can also `limit` the results:"
   ]
  },
  {
   "cell_type": "code",
   "execution_count": null,
   "metadata": {},
   "outputs": [
    {
     "data": {
      "text/plain": [
       "[{'id': 1, 'name': 'Raven', 'age': 8, 'pwd': 's3cret'},\n",
       " {'id': 2, 'name': 'Magpie', 'age': 5, 'pwd': 'supersecret'}]"
      ]
     },
     "execution_count": null,
     "metadata": {},
     "output_type": "execute_result"
    }
   ],
   "source": [
    "[o for o in users.rows_where('age > 3', limit=2)]"
   ]
  },
  {
   "cell_type": "markdown",
   "metadata": {},
   "source": [
    "The `offset` keyword can be combined with the `limit` keyword."
   ]
  },
  {
   "cell_type": "code",
   "execution_count": null,
   "metadata": {},
   "outputs": [
    {
     "data": {
      "text/plain": [
       "[{'id': 2, 'name': 'Magpie', 'age': 5, 'pwd': 'supersecret'},\n",
       " {'id': 3, 'name': 'Crow', 'age': 12, 'pwd': 'verysecret'}]"
      ]
     },
     "execution_count": null,
     "metadata": {},
     "output_type": "execute_result"
    }
   ],
   "source": [
    "[o for o in users.rows_where('age > 3', limit=2, offset=1)]"
   ]
  },
  {
   "cell_type": "markdown",
   "metadata": {},
   "source": [
    "The `offset` must be used with `limit` or raise a `ValueError`:"
   ]
  },
  {
   "cell_type": "code",
   "execution_count": null,
   "metadata": {},
   "outputs": [
    {
     "name": "stdout",
     "output_type": "stream",
     "text": [
      "Cannot use offset without limit\n"
     ]
    }
   ],
   "source": [
    "try:\n",
    "    [o for o in users.rows_where(offset=1)]\n",
    "except ValueError as e:\n",
    "    print(e)\n"
   ]
  },
  {
   "cell_type": "markdown",
   "metadata": {},
   "source": [
    "## Transactions"
   ]
  },
  {
   "cell_type": "markdown",
   "metadata": {},
   "source": [
    "If you have any SQL calls outside an explicit transaction, they are committed instantly.\n",
    "\n",
    "To group 2 or more queries together into 1 transaction, wrap them in a BEGIN and COMMIT, executing ROLLBACK if an exception is caught: "
   ]
  },
  {
   "cell_type": "code",
   "execution_count": null,
   "metadata": {},
   "outputs": [
    {
     "data": {
      "text/plain": [
       "{'id': 1, 'name': 'Raven', 'age': 8, 'pwd': 's3cret'}"
      ]
     },
     "execution_count": null,
     "metadata": {},
     "output_type": "execute_result"
    }
   ],
   "source": [
    "users.get(1)"
   ]
  },
  {
   "cell_type": "code",
   "execution_count": null,
   "metadata": {},
   "outputs": [
    {
     "name": "stdout",
     "output_type": "stream",
     "text": [
      "near \"FNOOORD\": syntax error\n"
     ]
    }
   ],
   "source": [
    "db.begin()\n",
    "try:\n",
    "    users.delete([1])\n",
    "    db.execute('FNOOORD')\n",
    "    db.commit()\n",
    "except Exception as e:\n",
    "    print(e)\n",
    "    db.rollback()"
   ]
  },
  {
   "cell_type": "markdown",
   "metadata": {},
   "source": [
    "Because the transaction was rolled back, the user was not deleted:"
   ]
  },
  {
   "cell_type": "code",
   "execution_count": null,
   "metadata": {},
   "outputs": [
    {
     "data": {
      "text/plain": [
       "{'id': 1, 'name': 'Raven', 'age': 8, 'pwd': 's3cret'}"
      ]
     },
     "execution_count": null,
     "metadata": {},
     "output_type": "execute_result"
    }
   ],
   "source": [
    "users.get(1)"
   ]
  },
  {
   "cell_type": "markdown",
   "metadata": {},
   "source": [
    "Let's do it again, but without the DB error, to check the transaction is successful:"
   ]
  },
  {
   "cell_type": "code",
   "execution_count": null,
   "metadata": {},
   "outputs": [],
   "source": [
    "db.begin()\n",
    "try:\n",
    "    users.delete([1])\n",
    "    db.commit()\n",
    "except Exception as e: db.rollback()"
   ]
  },
  {
   "cell_type": "code",
   "execution_count": null,
   "metadata": {},
   "outputs": [
    {
     "name": "stdout",
     "output_type": "stream",
     "text": [
      "Delete succeeded!\n"
     ]
    }
   ],
   "source": [
    "try:\n",
    "    users.get(1)\n",
    "    print(\"Delete failed!\")\n",
    "except: print(\"Delete succeeded!\")"
   ]
  },
  {
   "cell_type": "markdown",
   "metadata": {},
   "source": [
    "## Returning"
   ]
  },
  {
   "cell_type": "markdown",
   "metadata": {},
   "source": [
    "sqlite-minutils is different from sqlite-utils in that write actions (`INSERT`, `UPDATE`, `UPSERT`) return back the record(s) they have affected without relying on `last_rowid`. It does this through the `RETURNING` SQL keyword."
   ]
  },
  {
   "cell_type": "markdown",
   "metadata": {},
   "source": [
    "Testing `INSERT`"
   ]
  },
  {
   "cell_type": "code",
   "execution_count": null,
   "metadata": {},
   "outputs": [
    {
     "data": {
      "text/plain": [
       "{'id': 6, 'name': 'Turkey', 'age': 2, 'pwd': 'gravy'}"
      ]
     },
     "execution_count": null,
     "metadata": {},
     "output_type": "execute_result"
    }
   ],
   "source": [
    "user = users.insert(dict(name='Turkey', age=2, pwd='gravy'))\n",
    "user"
   ]
  },
  {
   "cell_type": "code",
   "execution_count": null,
   "metadata": {},
   "outputs": [],
   "source": [
    "test(user['name'], 'Turkey', equals)"
   ]
  },
  {
   "cell_type": "markdown",
   "metadata": {},
   "source": [
    "Testing `UPDATE`"
   ]
  },
  {
   "cell_type": "code",
   "execution_count": null,
   "metadata": {},
   "outputs": [
    {
     "data": {
      "text/plain": [
       "{'id': 7, 'name': 'Flamingo', 'age': 12, 'pwd': 'pink'}"
      ]
     },
     "execution_count": null,
     "metadata": {},
     "output_type": "execute_result"
    }
   ],
   "source": [
    "user = users.insert(dict(name='Flamingo', age=12, pwd='pink'))\n",
    "user"
   ]
  },
  {
   "cell_type": "code",
   "execution_count": null,
   "metadata": {},
   "outputs": [
    {
     "data": {
      "text/plain": [
       "{'id': 7, 'name': 'Kiwi', 'age': 12, 'pwd': 'pumpkin'}"
      ]
     },
     "execution_count": null,
     "metadata": {},
     "output_type": "execute_result"
    }
   ],
   "source": [
    "user = users.update(user['id'], dict(name='Kiwi', pwd='pumpkin'))\n",
    "user"
   ]
  },
  {
   "cell_type": "code",
   "execution_count": null,
   "metadata": {},
   "outputs": [],
   "source": [
    "test(user['name'], 'Kiwi', equals)\n",
    "test(users.last_pk, user['id'], equals)"
   ]
  },
  {
   "cell_type": "markdown",
   "metadata": {},
   "source": [
    "Testing `UPSERT`"
   ]
  },
  {
   "cell_type": "code",
   "execution_count": null,
   "metadata": {},
   "outputs": [
    {
     "data": {
      "text/plain": [
       "{'id': 7, 'name': 'Barn Owl', 'age': 102, 'pwd': 'pumpkin'}"
      ]
     },
     "execution_count": null,
     "metadata": {},
     "output_type": "execute_result"
    }
   ],
   "source": [
    "# Modify user\n",
    "user['name'] = 'Barn Owl'\n",
    "user['age'] = 102\n",
    "\n",
    "user = users.upsert(user, pk='id')\n",
    "user"
   ]
  },
  {
   "cell_type": "code",
   "execution_count": null,
   "metadata": {},
   "outputs": [],
   "source": [
    "test(user['name'], 'Barn Owl', equals)\n",
    "test(user['age'], 102, equals)"
   ]
  },
  {
   "cell_type": "code",
   "execution_count": null,
   "metadata": {},
   "outputs": [
    {
     "data": {
      "text/plain": [
       "{'id': 8, 'name': 'Blackbird', 'age': 42, 'pwd': 'migrate'}"
      ]
     },
     "execution_count": null,
     "metadata": {},
     "output_type": "execute_result"
    }
   ],
   "source": [
    "# Try with a user that doesn't exist\n",
    "id_2_check = users.count+2\n",
    "user = users.upsert(dict(name='Blackbird', age=42, pwd='migrate', id=id_2_check), pk='id')\n",
    "user"
   ]
  },
  {
   "cell_type": "code",
   "execution_count": null,
   "metadata": {},
   "outputs": [
    {
     "ename": "NameError",
     "evalue": "name 'user0' is not defined",
     "output_type": "error",
     "traceback": [
      "\u001b[0;31m---------------------------------------------------------------------------\u001b[0m",
      "\u001b[0;31mNameError\u001b[0m                                 Traceback (most recent call last)",
      "Cell \u001b[0;32mIn[30], line 2\u001b[0m\n\u001b[1;32m      1\u001b[0m test(user[\u001b[38;5;124m'\u001b[39m\u001b[38;5;124mname\u001b[39m\u001b[38;5;124m'\u001b[39m], \u001b[38;5;124m'\u001b[39m\u001b[38;5;124mBlackbird\u001b[39m\u001b[38;5;124m'\u001b[39m, equals)\n\u001b[0;32m----> 2\u001b[0m test(\u001b[43muser0\u001b[49m[\u001b[38;5;124m'\u001b[39m\u001b[38;5;124mage\u001b[39m\u001b[38;5;124m'\u001b[39m], \u001b[38;5;241m42\u001b[39m, equals)\n\u001b[1;32m      3\u001b[0m test(user[\u001b[38;5;124m'\u001b[39m\u001b[38;5;124mpwd\u001b[39m\u001b[38;5;124m'\u001b[39m], \u001b[38;5;124m'\u001b[39m\u001b[38;5;124mmigrate\u001b[39m\u001b[38;5;124m'\u001b[39m, equals)\n\u001b[1;32m      4\u001b[0m test(user[\u001b[38;5;124m'\u001b[39m\u001b[38;5;124mid\u001b[39m\u001b[38;5;124m'\u001b[39m], id_2_check, equals)\n",
      "\u001b[0;31mNameError\u001b[0m: name 'user0' is not defined"
     ]
    }
   ],
   "source": [
    "test(user['name'], 'Blackbird', equals)\n",
    "test(user0['age'], 42, equals)\n",
    "test(user['pwd'], 'migrate', equals)\n",
    "test(user['id'], id_2_check, equals)"
   ]
  },
  {
   "cell_type": "code",
   "execution_count": null,
   "metadata": {},
   "outputs": [],
   "source": []
  }
 ],
 "metadata": {
  "kernelspec": {
   "display_name": "python3",
   "language": "python",
   "name": "python3"
  }
 },
 "nbformat": 4,
 "nbformat_minor": 2
}
