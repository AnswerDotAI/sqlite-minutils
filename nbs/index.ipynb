{
 "cells": [
  {
   "cell_type": "markdown",
   "metadata": {},
   "source": [
    "# sqlite-minutils\n",
    "\n",
    "> A fork of the sqlite-utils package with the CLI removed."
   ]
  },
  {
   "cell_type": "markdown",
   "metadata": {},
   "source": [
    ":::{.callout-tip title=\"Where to find the complete documentation for this library\"}\n",
    "\n",
    "If you want to learn about everything this project can do, we recommend reading the Python library section of the sqlite-utils project [here](https://sqlite-utils.datasette.io/en/stable/python-api.html).\n",
    "\n",
    "This project wouldn't exist without Simon Willison and his excellent [sqlite-utils](https://github.com/simonw/sqlite-utils) project. Most of this project is his code, with some minor changes made to it. \n",
    ":::"
   ]
  },
  {
   "cell_type": "markdown",
   "metadata": {},
   "source": [
    "## Install"
   ]
  },
  {
   "cell_type": "markdown",
   "metadata": {},
   "source": [
    "```\n",
    "pip install sqlite-minutils\n",
    "```"
   ]
  },
  {
   "cell_type": "markdown",
   "metadata": {},
   "source": [
    "## Use"
   ]
  },
  {
   "cell_type": "code",
   "execution_count": null,
   "metadata": {},
   "outputs": [],
   "source": [
    "#| hide\n",
    "from fastcore.utils import *\n",
    "from typing import Any"
   ]
  },
  {
   "cell_type": "markdown",
   "metadata": {},
   "source": [
    "First, import the sqlite-miniutils library. Through the use of the __all__ attribute in our Python modules by using `import *` we only bring in the `Database`, `Queryable`, `Table`, `View` classes. There’s no risk of namespace pollution."
   ]
  },
  {
   "cell_type": "code",
   "execution_count": null,
   "metadata": {},
   "outputs": [],
   "source": [
    "from sqlite_minutils.db import *"
   ]
  },
  {
   "cell_type": "markdown",
   "metadata": {},
   "source": [
    "Then we create a SQLite database. For the sake of convienance we're doing it in-memory with the `:memory:` special string. If you wanted something more persistent, name it something not surrounded by colons, `data.db` is a common file name."
   ]
  },
  {
   "cell_type": "code",
   "execution_count": null,
   "metadata": {},
   "outputs": [],
   "source": [
    "db = Database(\":memory:\")"
   ]
  },
  {
   "cell_type": "markdown",
   "metadata": {},
   "source": [
    "Let's drop (aka 'delete') any tables that might exist. These docs also serve as a test harness, and we want to make certain we are starting with a clean slate. This also serves as a handy sneak preview of some of the features of this library."
   ]
  },
  {
   "cell_type": "code",
   "execution_count": null,
   "metadata": {},
   "outputs": [],
   "source": [
    "for t in db.tables: t.drop()"
   ]
  },
  {
   "cell_type": "markdown",
   "metadata": {},
   "source": [
    "User tables are a handy way to create a useful example with some real-world meaning. To do this, we first instantiate the `users` table object:"
   ]
  },
  {
   "cell_type": "code",
   "execution_count": null,
   "metadata": {},
   "outputs": [
    {
     "data": {
      "text/plain": [
       "<Table Users (does not exist yet)>"
      ]
     },
     "execution_count": null,
     "metadata": {},
     "output_type": "execute_result"
    }
   ],
   "source": [
    "users = Table(db, 'Users')\n",
    "users\n"
   ]
  },
  {
   "cell_type": "markdown",
   "metadata": {},
   "source": [
    "The table doesn't exist yet, so let's add some columns via the `Table.create` method:"
   ]
  },
  {
   "cell_type": "code",
   "execution_count": null,
   "metadata": {},
   "outputs": [
    {
     "data": {
      "text/plain": [
       "<Table Users (id, name, age)>"
      ]
     },
     "execution_count": null,
     "metadata": {},
     "output_type": "execute_result"
    }
   ],
   "source": [
    "users.create(columns=dict(id=int, name=str, age=int))\n",
    "users"
   ]
  },
  {
   "cell_type": "markdown",
   "metadata": {},
   "source": [
    "What if we need to change the table structure?\n",
    "\n",
    "For example User tables often include things like password field. Let's add that now by calling `create` again, but this time with `transform=True`. We should now see that the `users` table now has the `pwd:str` field added."
   ]
  },
  {
   "cell_type": "code",
   "execution_count": null,
   "metadata": {},
   "outputs": [
    {
     "data": {
      "text/plain": [
       "<Table Users (id, name, age, pwd)>"
      ]
     },
     "execution_count": null,
     "metadata": {},
     "output_type": "execute_result"
    }
   ],
   "source": [
    "users.create(columns=dict(id=int, name=str, age=int, pwd=str), transform=True, pk='id')\n",
    "users"
   ]
  },
  {
   "cell_type": "code",
   "execution_count": null,
   "metadata": {},
   "outputs": [
    {
     "name": "stdout",
     "output_type": "stream",
     "text": [
      "CREATE TABLE \"Users\" (\n",
      "   [id] INTEGER PRIMARY KEY,\n",
      "   [name] TEXT,\n",
      "   [age] INTEGER,\n",
      "   [pwd] TEXT\n",
      ");\n"
     ]
    }
   ],
   "source": [
    "print(db.schema)"
   ]
  },
  {
   "cell_type": "markdown",
   "metadata": {},
   "source": [
    "## Queries"
   ]
  },
  {
   "cell_type": "markdown",
   "metadata": {},
   "source": [
    "Let's add some users to query:"
   ]
  },
  {
   "cell_type": "code",
   "execution_count": null,
   "metadata": {},
   "outputs": [
    {
     "data": {
      "text/plain": [
       "<Table Users (id, name, age, pwd)>"
      ]
     },
     "execution_count": null,
     "metadata": {},
     "output_type": "execute_result"
    }
   ],
   "source": [
    "users.insert(dict(name='Raven', age=8, pwd='s3cret'))\n",
    "users.insert(dict(name='Magpie', age=5, pwd='supersecret'))\n",
    "users.insert(dict(name='Crow', age=12, pwd='verysecret'))\n",
    "users.insert(dict(name='Pigeon', age=3, pwd='keptsecret'))\n",
    "users.insert(dict(name='Eagle', age=7, pwd='s3cr3t'))\n"
   ]
  },
  {
   "cell_type": "markdown",
   "metadata": {},
   "source": [
    "A simple unfiltered select can be executed using `rows` property on the table object."
   ]
  },
  {
   "cell_type": "code",
   "execution_count": null,
   "metadata": {},
   "outputs": [
    {
     "data": {
      "text/plain": [
       "<generator object Queryable.rows_where>"
      ]
     },
     "execution_count": null,
     "metadata": {},
     "output_type": "execute_result"
    }
   ],
   "source": [
    "users.rows"
   ]
  },
  {
   "cell_type": "markdown",
   "metadata": {},
   "source": [
    "Let's iterate over that generator to see the results:"
   ]
  },
  {
   "cell_type": "code",
   "execution_count": null,
   "metadata": {},
   "outputs": [
    {
     "data": {
      "text/plain": [
       "[{'id': 1, 'name': 'Raven', 'age': 8, 'pwd': 's3cret'},\n",
       " {'id': 2, 'name': 'Magpie', 'age': 5, 'pwd': 'supersecret'},\n",
       " {'id': 3, 'name': 'Crow', 'age': 12, 'pwd': 'verysecret'},\n",
       " {'id': 4, 'name': 'Pigeon', 'age': 3, 'pwd': 'keptsecret'},\n",
       " {'id': 5, 'name': 'Eagle', 'age': 7, 'pwd': 's3cr3t'}]"
      ]
     },
     "execution_count": null,
     "metadata": {},
     "output_type": "execute_result"
    }
   ],
   "source": [
    "[o for o in users.rows]"
   ]
  },
  {
   "cell_type": "markdown",
   "metadata": {},
   "source": [
    "Filtering can be done via the `rows_where` function:"
   ]
  },
  {
   "cell_type": "code",
   "execution_count": null,
   "metadata": {},
   "outputs": [
    {
     "data": {
      "text/plain": [
       "[{'id': 1, 'name': 'Raven', 'age': 8, 'pwd': 's3cret'},\n",
       " {'id': 2, 'name': 'Magpie', 'age': 5, 'pwd': 'supersecret'},\n",
       " {'id': 3, 'name': 'Crow', 'age': 12, 'pwd': 'verysecret'},\n",
       " {'id': 5, 'name': 'Eagle', 'age': 7, 'pwd': 's3cr3t'}]"
      ]
     },
     "execution_count": null,
     "metadata": {},
     "output_type": "execute_result"
    }
   ],
   "source": [
    "[o for o in users.rows_where('age > 3')]"
   ]
  },
  {
   "cell_type": "markdown",
   "metadata": {},
   "source": [
    "We can also `limit` the results:"
   ]
  },
  {
   "cell_type": "code",
   "execution_count": null,
   "metadata": {},
   "outputs": [
    {
     "data": {
      "text/plain": [
       "[{'id': 1, 'name': 'Raven', 'age': 8, 'pwd': 's3cret'},\n",
       " {'id': 2, 'name': 'Magpie', 'age': 5, 'pwd': 'supersecret'}]"
      ]
     },
     "execution_count": null,
     "metadata": {},
     "output_type": "execute_result"
    }
   ],
   "source": [
    "[o for o in users.rows_where('age > 3', limit=2)]"
   ]
  },
  {
   "cell_type": "markdown",
   "metadata": {},
   "source": [
    "The `offset` keyword can be combined with the `limit` keyword."
   ]
  },
  {
   "cell_type": "code",
   "execution_count": null,
   "metadata": {},
   "outputs": [
    {
     "data": {
      "text/plain": [
       "[{'id': 2, 'name': 'Magpie', 'age': 5, 'pwd': 'supersecret'},\n",
       " {'id': 3, 'name': 'Crow', 'age': 12, 'pwd': 'verysecret'}]"
      ]
     },
     "execution_count": null,
     "metadata": {},
     "output_type": "execute_result"
    }
   ],
   "source": [
    "[o for o in users.rows_where('age > 3', limit=2, offset=1)]"
   ]
  },
  {
   "cell_type": "markdown",
   "metadata": {},
   "source": [
    "The `offset` must be used with `limit` or raise a `ValueError`:"
   ]
  },
  {
   "cell_type": "code",
   "execution_count": null,
   "metadata": {},
   "outputs": [
    {
     "name": "stdout",
     "output_type": "stream",
     "text": [
      "Cannot use offset without limit\n"
     ]
    }
   ],
   "source": [
    "try:\n",
    "    [o for o in users.rows_where(offset=1)]\n",
    "except ValueError as e:\n",
    "    print(e)\n"
   ]
  },
  {
   "cell_type": "markdown",
   "metadata": {},
   "source": [
    "## Full-text search"
   ]
  },
  {
   "cell_type": "markdown",
   "metadata": {},
   "source": [
    "Let's define a table `notes` with a field called `text` and enable full-text search on this field"
   ]
  },
  {
   "cell_type": "code",
   "execution_count": null,
   "metadata": {},
   "outputs": [],
   "source": [
    "notes = Table(db, 'notes')\n",
    "notes = notes.create(columns=dict(id=int, content=str), pk=\"id\")\n",
    "\n",
    "notes.enable_fts([\"content\"], create_triggers=True)\n",
    "\n",
    "notes.insert(dict(content=\"hello\"))\n",
    "notes.insert(dict(content=\"world\"))"
   ]
  },
  {
   "cell_type": "markdown",
   "metadata": {},
   "source": [
    "From now on, we expect to be able to use full text search using `search` function"
   ]
  },
  {
   "cell_type": "code",
   "execution_count": null,
   "metadata": {},
   "outputs": [],
   "source": [
    "assert len(list(notes.search(\"hell0\", columns=[\"content\"]))) != 0"
   ]
  }
 ],
 "metadata": {
  "kernelspec": {
   "display_name": "python3",
   "language": "python",
   "name": "python3"
  }
 },
 "nbformat": 4,
 "nbformat_minor": 2
}
